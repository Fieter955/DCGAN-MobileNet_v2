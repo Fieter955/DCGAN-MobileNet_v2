{
 "cells": [
  {
   "cell_type": "code",
   "execution_count": 6,
   "id": "439524a8-5c79-4817-8487-e2814e87210d",
   "metadata": {},
   "outputs": [],
   "source": [
    "import torch\n",
    "import torch.nn as nn\n",
    "from torchvision import datasets, transforms, models\n",
    "from torch.utils.data import DataLoader\n",
    "import matplotlib.pyplot as plt\n",
    "import numpy as np\n",
    "import os\n",
    "\n",
    "\n"
   ]
  },
  {
   "cell_type": "code",
   "execution_count": 12,
   "id": "5af3c442-c617-485e-84c8-2a1415dfeb27",
   "metadata": {},
   "outputs": [],
   "source": [
    "# Parameters\n",
    "num_classes = 4\n",
    "batch_size = 8\n",
    "learning_rate = 0.001\n",
    "num_epochs = 2\n",
    "\n",
    "\n",
    "# Data transforms with augmentation for training\n",
    "train_transforms = transforms.Compose([\n",
    "    transforms.RandomRotation(10),\n",
    "    transforms.RandomResizedCrop(224, scale=(0.8, 1.0)),\n",
    "    transforms.RandomHorizontalFlip(),\n",
    "    transforms.ToTensor(),\n",
    "    transforms.Normalize([0.485, 0.456, 0.406], [0.229, 0.224, 0.225])\n",
    "])\n",
    "\n",
    "# Data transforms for testing\n",
    "test_transforms = transforms.Compose([\n",
    "    transforms.Resize(230),\n",
    "    transforms.CenterCrop(224),\n",
    "    transforms.ToTensor(),\n",
    "    transforms.Normalize([0.485, 0.456, 0.406], [0.229, 0.224, 0.225])\n",
    "])"
   ]
  },
  {
   "cell_type": "code",
   "execution_count": 13,
   "id": "a1c412ab-3794-4d1d-81ea-94007c4b5a99",
   "metadata": {},
   "outputs": [
    {
     "name": "stdout",
     "output_type": "stream",
     "text": [
      "Class names: ['cassava', 'corn', 'rice', 'sugarcane']\n"
     ]
    }
   ],
   "source": [
    "# Modify this to point to your dataset directory\n",
    "data_dir = \"C:\\\\Users\\\\Ilmu Komputer\\\\OneDrive\\\\Desktop\\\\4 dataset\\\\dataset\"  \n",
    "\n",
    "# Automatically split the dataset into train and test\n",
    "full_dataset = datasets.ImageFolder(root=data_dir)\n",
    "\n",
    "# Load the full dataset\n",
    "num_samples = len(full_dataset)\n",
    "train_size = int(0.8 * num_samples)\n",
    "test_size = num_samples - train_size\n",
    "\n",
    "# Splitting the dataset into train and test\n",
    "train_dataset, test_dataset = torch.utils.data.random_split(full_dataset, [train_size, test_size])\n",
    "\n",
    "\n",
    "# Apply the transforms\n",
    "train_dataset.dataset.transform = train_transforms\n",
    "test_dataset.dataset.transform = test_transforms\n",
    "\n",
    "\n",
    "# Define data loaders\n",
    "train_loader = DataLoader(train_dataset, batch_size=batch_size, shuffle=True, num_workers=4)\n",
    "test_loader = DataLoader(test_dataset, batch_size=batch_size, shuffle=False, num_workers=4)\n",
    "\n",
    "# Check class names\n",
    "class_names = train_dataset.dataset.classes\n",
    "print(\"Class names:\", class_names)\n",
    "\n",
    "\n",
    "\n"
   ]
  },
  {
   "cell_type": "code",
   "execution_count": 14,
   "id": "357247b7-d7d6-44ab-ab09-0099144470c9",
   "metadata": {},
   "outputs": [],
   "source": [
    "\n",
    "\n",
    "class CustomMobileNetV2(nn.Module):\n",
    "    def __init__(self, num_classes):\n",
    "        super(CustomMobileNetV2, self).__init__()\n",
    "        self.mnet = models.mobilenet_v2(pretrained=True)\n",
    "        self.freeze()\n",
    "        self.mnet.classifier = nn.Sequential(\n",
    "            nn.Linear(1280, num_classes)\n",
    "        )\n",
    "\n",
    "    def forward(self, x):\n",
    "        return self.mnet(x)\n",
    "\n",
    "    def freeze(self):\n",
    "        for param in self.mnet.parameters():\n",
    "            param.requires_grad = False\n",
    "\n",
    "    def unfreeze(self):\n",
    "        for param in self.mnet.parameters():\n",
    "            param.requires_grad = True"
   ]
  },
  {
   "cell_type": "markdown",
   "id": "a7bc4fdb-823c-43fd-9173-40ecb51363f1",
   "metadata": {},
   "source": [
    "## Phase 1: Adaptation (lr standard + patience kecil)"
   ]
  },
  {
   "cell_type": "code",
   "execution_count": 15,
   "id": "956609f1-7c8a-4430-a701-4bfeb218b591",
   "metadata": {},
   "outputs": [
    {
     "name": "stderr",
     "output_type": "stream",
     "text": [
      "C:\\Users\\Ilmu Komputer\\miniconda3\\envs\\terbaru\\lib\\site-packages\\torchvision\\models\\_utils.py:208: UserWarning: The parameter 'pretrained' is deprecated since 0.13 and may be removed in the future, please use 'weights' instead.\n",
      "  warnings.warn(\n",
      "C:\\Users\\Ilmu Komputer\\miniconda3\\envs\\terbaru\\lib\\site-packages\\torchvision\\models\\_utils.py:223: UserWarning: Arguments other than a weight enum or `None` for 'weights' are deprecated since 0.13 and may be removed in the future. The current behavior is equivalent to passing `weights=MobileNet_V2_Weights.IMAGENET1K_V1`. You can also use `weights=MobileNet_V2_Weights.DEFAULT` to get the most up-to-date weights.\n",
      "  warnings.warn(msg)\n"
     ]
    }
   ],
   "source": [
    "# Definisikan device\n",
    "device = torch.device('cuda' if torch.cuda.is_available() else 'cpu')\n",
    "\n",
    "\n",
    "\n",
    "# Membuat model, loss function, dan optimizer\n",
    "model = CustomMobileNetV2(num_classes)\n",
    "model = model.to(device)\n",
    "criterion = nn.CrossEntropyLoss()\n",
    "optimizer = optim.AdamW(model.parameters(), lr=learning_rate) \n",
    "\n"
   ]
  },
  {
   "cell_type": "code",
   "execution_count": 16,
   "id": "ae14783a-2784-440b-8b1c-8d7d799a6399",
   "metadata": {},
   "outputs": [],
   "source": [
    "\n",
    "# Definisikan callback EarlyStopping dan ModelCheckpoint secara manual\n",
    "class EarlyStopping:\n",
    "    def __init__(self, patience=5, delta=0):\n",
    "        self.patience = patience\n",
    "        self.delta = delta\n",
    "        self.counter = 0\n",
    "        self.best_score = None\n",
    "        self.early_stop = False\n",
    "        self.val_loss_min = float('inf')\n",
    "\n",
    "    def __call__(self, val_loss, model):\n",
    "        score = -val_loss\n",
    "\n",
    "        if self.best_score is None:\n",
    "            self.best_score = score\n",
    "            self.save_checkpoint(val_loss, model)\n",
    "        elif score < self.best_score + self.delta:\n",
    "            self.counter += 1\n",
    "            print(f'EarlyStopping counter: {self.counter} out of {self.patience}')\n",
    "            if self.counter >= self.patience:\n",
    "                self.early_stop = True\n",
    "        else:\n",
    "            self.best_score = score\n",
    "            self.save_checkpoint(val_loss, model)\n",
    "            self.counter = 0\n",
    "\n",
    "    def save_checkpoint(self, val_loss, model):\n",
    "        torch.save(model.state_dict(), 'checkpoint.pt')\n",
    "        self.val_loss_min = val_loss\n",
    "\n",
    "class ModelCheckpoint:\n",
    "    def __init__(self, filename='checkpoint.pt'):\n",
    "        self.filename = filename\n",
    "        self.best_val_loss = float('inf')\n",
    "\n",
    "    def __call__(self, val_loss, model):\n",
    "        if val_loss < self.best_val_loss:\n",
    "            torch.save(model.state_dict(), self.filename)\n",
    "            print(f'Validation loss decreased ({self.best_val_loss:.6f} --> {val_loss:.6f}). Saving model ...')\n",
    "            self.best_val_loss = val_loss\n",
    "\n",
    "# Callbacks\n",
    "early_stopping = EarlyStopping(patience=2)\n",
    "model_checkpoint = ModelCheckpoint(filename='model_checkpoint.pt')\n",
    "\n",
    "# Konfigurasi\n",
    "config = {\n",
    "    \"batch_size\": batch_size,\n",
    "    \"learning_rate\": learning_rate,\n",
    "    \"output_size\": num_classes\n",
    "}\n"
   ]
  },
  {
   "cell_type": "code",
   "execution_count": null,
   "id": "3e785b56-3d76-4a05-9856-218ec09fea21",
   "metadata": {},
   "outputs": [],
   "source": [
    "# Menampilkan model\n",
    "print(model)\n"
   ]
  },
  {
   "cell_type": "code",
   "execution_count": null,
   "id": "844cc911-4d09-44e3-9d90-03b364a4ddbe",
   "metadata": {},
   "outputs": [],
   "source": []
  },
  {
   "cell_type": "code",
   "execution_count": null,
   "id": "723f2df2-75f3-47c4-ad89-43ffbd2fc849",
   "metadata": {},
   "outputs": [],
   "source": []
  },
  {
   "cell_type": "code",
   "execution_count": null,
   "id": "9779aa83-6506-4b1a-9720-b06443e33149",
   "metadata": {},
   "outputs": [],
   "source": []
  },
  {
   "cell_type": "code",
   "execution_count": null,
   "id": "c472384e-0cf4-4ba3-8d64-89d26fd5bc87",
   "metadata": {},
   "outputs": [],
   "source": []
  },
  {
   "cell_type": "code",
   "execution_count": null,
   "id": "f7221630-5d46-4591-b84f-aea86243df8f",
   "metadata": {},
   "outputs": [],
   "source": []
  },
  {
   "cell_type": "code",
   "execution_count": null,
   "id": "a88ea14e-d401-4cba-afe7-ff1ba8b50ced",
   "metadata": {},
   "outputs": [],
   "source": []
  },
  {
   "cell_type": "code",
   "execution_count": null,
   "id": "872732eb-1182-46a6-837f-d6d5b108020e",
   "metadata": {},
   "outputs": [],
   "source": []
  },
  {
   "cell_type": "code",
   "execution_count": null,
   "id": "32025f13-abbf-4fc4-a6a2-6f97f9ba02e0",
   "metadata": {},
   "outputs": [],
   "source": []
  },
  {
   "cell_type": "code",
   "execution_count": null,
   "id": "1c05cac6-300e-4ef6-ba0c-e524947dcd52",
   "metadata": {},
   "outputs": [],
   "source": []
  },
  {
   "cell_type": "code",
   "execution_count": null,
   "id": "b6295735-f18c-4713-bffd-65d31055205f",
   "metadata": {},
   "outputs": [],
   "source": []
  },
  {
   "cell_type": "code",
   "execution_count": null,
   "id": "10a87b74-3e1a-4be3-993b-5c969fb8662b",
   "metadata": {},
   "outputs": [],
   "source": []
  },
  {
   "cell_type": "code",
   "execution_count": null,
   "id": "f9d1dc3b-8294-446d-9b8d-0f117d28fd13",
   "metadata": {},
   "outputs": [],
   "source": []
  },
  {
   "cell_type": "code",
   "execution_count": null,
   "id": "8ca36a63-a7aa-42e4-8cdc-2ef35e80917f",
   "metadata": {},
   "outputs": [],
   "source": [
    "# Training function\n",
    "def train_model(model, criterion, optimizer, num_epochs=2):\n",
    "    train_losses = []\n",
    "    val_losses = []\n",
    "    train_accs = []\n",
    "    val_accs = []\n",
    "\n",
    "    for epoch in range(num_epochs):\n",
    "        print('Epoch {}/{}'.format(epoch, num_epochs - 1))\n",
    "        print('-' * 10)\n",
    "\n",
    "        for phase in ['train', 'val']:\n",
    "            if phase == 'train':\n",
    "                model.train()\n",
    "            else:\n",
    "                model.eval()\n",
    "\n",
    "            running_loss = 0.0\n",
    "            running_corrects = 0\n",
    "\n",
    "            \n",
    "            for inputs, labels in dataloaders[phase]:\n",
    "                inputs = inputs.to(device)\n",
    "                labels = labels.to(device)\n",
    "\n",
    "                optimizer.zero_grad()\n",
    "\n",
    "                with torch.set_grad_enabled(phase == 'train'):\n",
    "                    outputs = model(inputs)\n",
    "                    _, preds = torch.max(outputs, 1)\n",
    "                    loss = criterion(outputs, labels)\n",
    "\n",
    "                    if phase == 'train':\n",
    "                        loss.backward()\n",
    "                        optimizer.step()\n",
    "\n",
    "                running_loss += loss.item() * inputs.size(0)\n",
    "                running_corrects += torch.sum(preds == labels.data)\n",
    "\n",
    "            epoch_loss = running_loss / dataset_sizes[phase]\n",
    "            epoch_acc = running_corrects.double() / dataset_sizes[phase]\n",
    "\n",
    "            if phase == 'train':\n",
    "                train_losses.append(epoch_loss)\n",
    "                train_accs.append(epoch_acc.cpu().numpy())  # Convert to numpy after moving to CPU\n",
    "            else:\n",
    "                val_losses.append(epoch_loss)\n",
    "                val_accs.append(epoch_acc.cpu().numpy())  # Convert to numpy after moving to CPU\n",
    "\n",
    "            print('{} Loss: {:.4f} Acc: {:.4f}'.format(phase, epoch_loss, epoch_acc))\n",
    "\n",
    "    plot_training_results(train_losses, val_losses, train_accs, val_accs)\n",
    "    return model\n"
   ]
  },
  {
   "cell_type": "code",
   "execution_count": null,
   "id": "d8d92ae3-2560-4123-b24f-2dcc975d50d7",
   "metadata": {},
   "outputs": [],
   "source": [
    "# Plotting function\n",
    "def plot_training_results(train_losses, val_losses, train_accs, val_accs):\n",
    "    plt.figure(figsize=(15, 5))\n",
    "\n",
    "    # Plot loss\n",
    "    plt.subplot(1, 2, 1)\n",
    "    plt.plot(range(1, num_epochs + 1), train_losses, label='Train')\n",
    "    plt.plot(range(1, num_epochs + 1), val_losses, label='Val')\n",
    "    plt.xlabel('Epochs')\n",
    "    plt.ylabel('Loss')\n",
    "    plt.title('Training and Validation Loss')\n",
    "    plt.legend()\n",
    "\n",
    "    # Plot accuracy\n",
    "    plt.subplot(1, 2, 2)\n",
    "    plt.plot(range(1, num_epochs + 1), train_accs, label='Train')\n",
    "    plt.plot(range(1, num_epochs + 1), val_accs, label='Val')\n",
    "    plt.xlabel('Epochs')\n",
    "    plt.ylabel('Accuracy')\n",
    "    plt.title('Training and Validation Accuracy')\n",
    "    plt.legend()\n",
    "\n",
    "    plt.show()\n"
   ]
  },
  {
   "cell_type": "code",
   "execution_count": null,
   "id": "18ab04eb-0f2f-4b61-9b7e-d101c81f62b3",
   "metadata": {},
   "outputs": [],
   "source": [
    "# Train the model\n",
    "model = train_model(model, criterion, optimizer, num_epochs=num_epochs)\n",
    "\n",
    "# Save the model\n",
    "torch.save(model.state_dict(), 'mobilenetv2_finetuned.pth')\n"
   ]
  },
  {
   "cell_type": "code",
   "execution_count": null,
   "id": "2486ec40-c7a4-4475-ad4a-5fcb524e46aa",
   "metadata": {},
   "outputs": [],
   "source": []
  },
  {
   "cell_type": "code",
   "execution_count": null,
   "id": "9034fef5-6167-40f1-8495-c8c4b0cefac5",
   "metadata": {},
   "outputs": [],
   "source": []
  },
  {
   "cell_type": "code",
   "execution_count": null,
   "id": "8a0e2ff9-5121-415a-900e-d169dc639c0d",
   "metadata": {},
   "outputs": [],
   "source": []
  },
  {
   "cell_type": "code",
   "execution_count": null,
   "id": "3ba4469a-0add-4aae-998b-b825d1bae922",
   "metadata": {},
   "outputs": [],
   "source": []
  },
  {
   "cell_type": "code",
   "execution_count": null,
   "id": "2bafbe38-f264-4bb0-80de-94ef951169e7",
   "metadata": {},
   "outputs": [],
   "source": []
  }
 ],
 "metadata": {
  "kernelspec": {
   "display_name": "Python 3 (ipykernel)",
   "language": "python",
   "name": "python3"
  },
  "language_info": {
   "codemirror_mode": {
    "name": "ipython",
    "version": 3
   },
   "file_extension": ".py",
   "mimetype": "text/x-python",
   "name": "python",
   "nbconvert_exporter": "python",
   "pygments_lexer": "ipython3",
   "version": "3.9.18"
  }
 },
 "nbformat": 4,
 "nbformat_minor": 5
}
